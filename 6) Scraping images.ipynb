{
 "cells": [
  {
   "cell_type": "code",
   "execution_count": 1,
   "id": "ae459ff3",
   "metadata": {},
   "outputs": [],
   "source": [
    "from bs4 import BeautifulSoup\n",
    "import requests\n",
    "import lxml"
   ]
  },
  {
   "cell_type": "code",
   "execution_count": 2,
   "id": "fad7db99",
   "metadata": {},
   "outputs": [],
   "source": [
    "page = requests.get(\"http://books.toscrape.com/\").text"
   ]
  },
  {
   "cell_type": "code",
   "execution_count": 3,
   "id": "02c5cdce",
   "metadata": {},
   "outputs": [],
   "source": [
    "soup = BeautifulSoup(page,\"lxml\")"
   ]
  },
  {
   "cell_type": "code",
   "execution_count": 16,
   "id": "2ea241ad",
   "metadata": {},
   "outputs": [
    {
     "name": "stdout",
     "output_type": "stream",
     "text": [
      "Done\n"
     ]
    }
   ],
   "source": [
    "for i in soup.select(\"article\"):\n",
    "    image_link = f\"https://books.toscrape.com/{i.select('.image_container')[0].a.img['src']}\"\n",
    "    \n",
    "    image_name = f\"{i.select('.image_container')[0].a.img['alt']}\"\n",
    "    \n",
    "    # this is a special case --> using split(\":\") because the name of image have : and i need to delete it\n",
    "    \n",
    "    split = image_name.split(\":\")[0]    \n",
    "    \n",
    "    get_image = requests.get(image_link)\n",
    "    image_file = open(f\"{split}.jpg\",'wb')\n",
    "    image_file.write(get_image.content)\n",
    "    image_file.close()\n",
    "print(\"Done\")"
   ]
  },
  {
   "cell_type": "code",
   "execution_count": null,
   "id": "4b5794da",
   "metadata": {},
   "outputs": [],
   "source": []
  },
  {
   "cell_type": "code",
   "execution_count": null,
   "id": "54e97b6c",
   "metadata": {},
   "outputs": [],
   "source": []
  }
 ],
 "metadata": {
  "kernelspec": {
   "display_name": "Python 3 (ipykernel)",
   "language": "python",
   "name": "python3"
  },
  "language_info": {
   "codemirror_mode": {
    "name": "ipython",
    "version": 3
   },
   "file_extension": ".py",
   "mimetype": "text/x-python",
   "name": "python",
   "nbconvert_exporter": "python",
   "pygments_lexer": "ipython3",
   "version": "3.9.7"
  },
  "varInspector": {
   "cols": {
    "lenName": 16,
    "lenType": 16,
    "lenVar": 40
   },
   "kernels_config": {
    "python": {
     "delete_cmd_postfix": "",
     "delete_cmd_prefix": "del ",
     "library": "var_list.py",
     "varRefreshCmd": "print(var_dic_list())"
    },
    "r": {
     "delete_cmd_postfix": ") ",
     "delete_cmd_prefix": "rm(",
     "library": "var_list.r",
     "varRefreshCmd": "cat(var_dic_list()) "
    }
   },
   "types_to_exclude": [
    "module",
    "function",
    "builtin_function_or_method",
    "instance",
    "_Feature"
   ],
   "window_display": false
  }
 },
 "nbformat": 4,
 "nbformat_minor": 5
}
