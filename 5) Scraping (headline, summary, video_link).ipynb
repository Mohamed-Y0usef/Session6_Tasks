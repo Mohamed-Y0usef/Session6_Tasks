{
 "cells": [
  {
   "cell_type": "code",
   "execution_count": 1,
   "id": "8764ef1d",
   "metadata": {},
   "outputs": [],
   "source": [
    "from bs4 import BeautifulSoup\n",
    "import requests\n",
    "import lxml\n",
    "import csv"
   ]
  },
  {
   "cell_type": "code",
   "execution_count": 2,
   "id": "97f11146",
   "metadata": {},
   "outputs": [],
   "source": [
    "link = requests.get(\"https://coreyms.com/\").text"
   ]
  },
  {
   "cell_type": "code",
   "execution_count": 3,
   "id": "726a7048",
   "metadata": {},
   "outputs": [],
   "source": [
    "soup = BeautifulSoup(link,\"lxml\")"
   ]
  },
  {
   "cell_type": "code",
   "execution_count": 4,
   "id": "20c944a2",
   "metadata": {},
   "outputs": [],
   "source": [
    "csv_file = open(\"headline summary video_link.csv\", \"w\", encoding = \"utf-8\",newline = \"\")\n",
    "csv_writer = csv.writer(csv_file)\n",
    "csv_writer.writerow([\"headline\", \"summary\", \"video link\"])\n",
    "\n",
    "for i in range(len(soup.find_all('article'))):\n",
    "    \n",
    "    head_line = soup.select(\".entry-header .entry-title-link\")[i].text\n",
    "    summary = soup.select(\"div .entry-content\")[i].p.text\n",
    "        \n",
    "    try:\n",
    "        video = soup.select(\"div .entry-content\")[i].iframe[\"src\"].split(\"/\")[4].split(\"?\")[0]\n",
    "        video_link = f\"https://www.youtube.com/watch?v={video}\"\n",
    "        csv_writer.writerow([head_line,summary,video_link])\n",
    "    except:\n",
    "        csv_writer.writerow([head_line,summary,\"No link\"])"
   ]
  },
  {
   "cell_type": "code",
   "execution_count": 5,
   "id": "6bb4c869",
   "metadata": {},
   "outputs": [],
   "source": [
    "csv_file.close()"
   ]
  }
 ],
 "metadata": {
  "kernelspec": {
   "display_name": "Python 3 (ipykernel)",
   "language": "python",
   "name": "python3"
  },
  "language_info": {
   "codemirror_mode": {
    "name": "ipython",
    "version": 3
   },
   "file_extension": ".py",
   "mimetype": "text/x-python",
   "name": "python",
   "nbconvert_exporter": "python",
   "pygments_lexer": "ipython3",
   "version": "3.9.7"
  },
  "varInspector": {
   "cols": {
    "lenName": 16,
    "lenType": 16,
    "lenVar": 40
   },
   "kernels_config": {
    "python": {
     "delete_cmd_postfix": "",
     "delete_cmd_prefix": "del ",
     "library": "var_list.py",
     "varRefreshCmd": "print(var_dic_list())"
    },
    "r": {
     "delete_cmd_postfix": ") ",
     "delete_cmd_prefix": "rm(",
     "library": "var_list.r",
     "varRefreshCmd": "cat(var_dic_list()) "
    }
   },
   "types_to_exclude": [
    "module",
    "function",
    "builtin_function_or_method",
    "instance",
    "_Feature"
   ],
   "window_display": false
  }
 },
 "nbformat": 4,
 "nbformat_minor": 5
}
