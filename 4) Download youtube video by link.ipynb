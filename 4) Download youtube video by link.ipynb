{
 "cells": [
  {
   "cell_type": "code",
   "execution_count": 66,
   "id": "7f1fb663",
   "metadata": {},
   "outputs": [
    {
     "name": "stdout",
     "output_type": "stream",
     "text": [
      "\n",
      "Enter the link of YouTube video you want to download: https://www.youtube.com/watch?v=3c5PKIo7jZU\n",
      "\n",
      "Title: Hiss, Alexinho, Colaps, River' - If only (Official Video)\n",
      "Number of views: 63871\n",
      "Length of video: 179\n",
      "Rating of video: None\n",
      "\n",
      "Downloading...\n",
      "Download completed!!\n",
      "\n",
      "again(y/n)? n\n"
     ]
    }
   ],
   "source": [
    "from pytube import YouTube\n",
    "\n",
    "again = \"y\"\n",
    "\n",
    "while again == \"y\":\n",
    "\n",
    "    url = YouTube(input(\"\\nEnter the link of YouTube video you want to download: \"))\n",
    "\n",
    "    # Showing video details\n",
    "    print(\"\\nTitle:\", url.title)\n",
    "    print(\"Number of views:\", url.views)\n",
    "    print(\"Length of video:\", url.length)\n",
    "    print(\"Rating of video:\", url.rating)\n",
    "    \n",
    "    print(\"\\nDownloading...\")\n",
    "\n",
    "    video = url.streams.get_highest_resolution()\n",
    "\n",
    "    video.download(\"Session6_Tasks\")\n",
    "    \n",
    "    print(\"Download completed!!\\n\")\n",
    "    \n",
    "    again = input('again(y/n)? ')"
   ]
  },
  {
   "cell_type": "code",
   "execution_count": null,
   "id": "7caf33a2",
   "metadata": {},
   "outputs": [],
   "source": []
  }
 ],
 "metadata": {
  "kernelspec": {
   "display_name": "Python 3 (ipykernel)",
   "language": "python",
   "name": "python3"
  },
  "language_info": {
   "codemirror_mode": {
    "name": "ipython",
    "version": 3
   },
   "file_extension": ".py",
   "mimetype": "text/x-python",
   "name": "python",
   "nbconvert_exporter": "python",
   "pygments_lexer": "ipython3",
   "version": "3.9.7"
  },
  "varInspector": {
   "cols": {
    "lenName": 16,
    "lenType": 16,
    "lenVar": 40
   },
   "kernels_config": {
    "python": {
     "delete_cmd_postfix": "",
     "delete_cmd_prefix": "del ",
     "library": "var_list.py",
     "varRefreshCmd": "print(var_dic_list())"
    },
    "r": {
     "delete_cmd_postfix": ") ",
     "delete_cmd_prefix": "rm(",
     "library": "var_list.r",
     "varRefreshCmd": "cat(var_dic_list()) "
    }
   },
   "types_to_exclude": [
    "module",
    "function",
    "builtin_function_or_method",
    "instance",
    "_Feature"
   ],
   "window_display": false
  }
 },
 "nbformat": 4,
 "nbformat_minor": 5
}
