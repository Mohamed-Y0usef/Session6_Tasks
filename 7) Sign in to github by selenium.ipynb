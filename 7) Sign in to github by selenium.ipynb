{
 "cells": [
  {
   "cell_type": "code",
   "execution_count": 1,
   "id": "de4df381",
   "metadata": {},
   "outputs": [
    {
     "name": "stderr",
     "output_type": "stream",
     "text": [
      "C:\\Users\\Moham\\AppData\\Local\\Temp/ipykernel_31044/2582516847.py:2: DeprecationWarning: executable_path has been deprecated, please pass in a Service object\n",
      "  driver = webdriver.Chrome(executable_path = r\"chromedriver.exe\")\n",
      "C:\\Users\\Moham\\AppData\\Local\\Temp/ipykernel_31044/2582516847.py:4: DeprecationWarning: find_element_by_* commands are deprecated. Please use find_element() instead\n",
      "  driver.find_element_by_css_selector('a[data-ga-click=\"(Logged out) Header, clicked Sign in, text:sign-in\"]').click()\n",
      "C:\\Users\\Moham\\AppData\\Local\\Temp/ipykernel_31044/2582516847.py:6: DeprecationWarning: find_element_by_* commands are deprecated. Please use find_element() instead\n",
      "  driver.find_element_by_id(\"login_field\").send_keys(\"Enter your e-mail on github\")\n",
      "C:\\Users\\Moham\\AppData\\Local\\Temp/ipykernel_31044/2582516847.py:7: DeprecationWarning: find_element_by_* commands are deprecated. Please use find_element() instead\n",
      "  driver.find_element_by_id(\"password\").send_keys(\"Enter your password\")\n",
      "C:\\Users\\Moham\\AppData\\Local\\Temp/ipykernel_31044/2582516847.py:8: DeprecationWarning: find_element_by_* commands are deprecated. Please use find_element() instead\n",
      "  driver.find_element_by_class_name(\"js-sign-in-button\").click()\n"
     ]
    }
   ],
   "source": [
    "from selenium import webdriver\n",
    "\n",
    "driver = webdriver.Chrome(executable_path = r\"chromedriver.exe\")\n",
    "driver.get(\"https://github.com\")\n",
    "driver.find_element_by_css_selector('a[data-ga-click=\"(Logged out) Header, clicked Sign in, text:sign-in\"]').click()\n",
    "driver.get(\"https://github.com/login\")\n",
    "driver.find_element_by_id(\"login_field\").send_keys(\"Enter your e-mail on github\")\n",
    "driver.find_element_by_id(\"password\").send_keys(\"Enter your password\")\n",
    "driver.find_element_by_class_name(\"js-sign-in-button\").click()"
   ]
  }
 ],
 "metadata": {
  "kernelspec": {
   "display_name": "Python 3 (ipykernel)",
   "language": "python",
   "name": "python3"
  },
  "language_info": {
   "codemirror_mode": {
    "name": "ipython",
    "version": 3
   },
   "file_extension": ".py",
   "mimetype": "text/x-python",
   "name": "python",
   "nbconvert_exporter": "python",
   "pygments_lexer": "ipython3",
   "version": "3.9.7"
  },
  "varInspector": {
   "cols": {
    "lenName": 16,
    "lenType": 16,
    "lenVar": 40
   },
   "kernels_config": {
    "python": {
     "delete_cmd_postfix": "",
     "delete_cmd_prefix": "del ",
     "library": "var_list.py",
     "varRefreshCmd": "print(var_dic_list())"
    },
    "r": {
     "delete_cmd_postfix": ") ",
     "delete_cmd_prefix": "rm(",
     "library": "var_list.r",
     "varRefreshCmd": "cat(var_dic_list()) "
    }
   },
   "types_to_exclude": [
    "module",
    "function",
    "builtin_function_or_method",
    "instance",
    "_Feature"
   ],
   "window_display": false
  }
 },
 "nbformat": 4,
 "nbformat_minor": 5
}
